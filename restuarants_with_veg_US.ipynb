{
 "cells": [
  {
   "cell_type": "code",
   "execution_count": null,
   "metadata": {},
   "outputs": [],
   "source": [
    "import pandas as pd\n",
    "import numpy as np\n",
    "\n",
    "data = pd.read_csv(\"vegetarian_restaurants_US_datafiniti.csv\")\n",
    "'''\n",
    "city = data['city']\n",
    "address = data['address']\n",
    "name = data['name']\n",
    "lat = data['lat']\n",
    "lon = data['long']\n",
    "'''\n",
    "data = data[np.isfinite(data['lat'])]\n",
    "data = data[np.isfinite(data['long'])]\n",
    "new_data = pd.DataFrame()\n",
    "new_data['name'] = data['name']\n",
    "new_data['lat'] = data['lat']\n",
    "new_data['long'] = data['long']\n",
    "\n",
    "from plotly import __version__\n",
    "import plotly\n",
    "from plotly.offline import download_plotlyjs, init_notebook_mode, plot, iplot\n",
    "\n",
    "init_notebook_mode(connected=True)\n",
    "\n",
    "import plotly.plotly as py\n",
    "from plotly.offline import iplot\n",
    "import plotly.graph_objs as go\n",
    "scale = 5000\n",
    "print(data['name'])\n",
    "restaurants = go.Scattergeo(\n",
    "        locationmode = 'USA-states',\n",
    "        lon = data['long'],\n",
    "        lat = data['lat'],\n",
    "        mode = \"markers\",\n",
    "        marker = dict(\n",
    "            size = 5,\n",
    "            color = \"rgb(0,0,255)\",\n",
    "            line = dict(width=0.5, color='rgb(40,40,40)'),\n",
    "        ),\n",
    "        name = \"Restaurants\",\n",
    "        text = data['name'])\n",
    "              \n",
    "data = [restaurants]\n",
    "layout = go.Layout(\n",
    "    title = 'Restaurants with vegetarian options in the US',\n",
    "    showlegend = True,\n",
    "    hovermode = 'closest',\n",
    "    geo = dict(\n",
    "        scope='usa',\n",
    "        projection=dict( type='albers usa' ),\n",
    "        showland = True,\n",
    "        landcolor = \"rgb(217, 217, 217)\",\n",
    "        subunitwidth=1,\n",
    "        countrywidth=1,\n",
    "        subunitcolor=\"rgb(255, 255, 255)\",\n",
    "        countrycolor=\"rgb(255, 255, 255)\"\n",
    "    ),\n",
    ")\n",
    "\n",
    "fig = go.Figure(data=data, layout=layout )\n",
    "graph = plot(fig,filename='map')"
   ]
  },
  {
   "cell_type": "code",
   "execution_count": null,
   "metadata": {
    "collapsed": true
   },
   "outputs": [],
   "source": []
  }
 ],
 "metadata": {
  "kernelspec": {
   "display_name": "Python 3",
   "language": "python",
   "name": "python3"
  },
  "language_info": {
   "codemirror_mode": {
    "name": "ipython",
    "version": 3
   },
   "file_extension": ".py",
   "mimetype": "text/x-python",
   "name": "python",
   "nbconvert_exporter": "python",
   "pygments_lexer": "ipython3",
   "version": "3.6.1"
  }
 },
 "nbformat": 4,
 "nbformat_minor": 2
}
